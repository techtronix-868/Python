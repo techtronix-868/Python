{
 "cells": [
  {
   "cell_type": "markdown",
   "metadata": {},
   "source": [
    "# Prob 1, Qs. 1"
   ]
  },
  {
   "cell_type": "markdown",
   "metadata": {},
   "source": [
    "For the null hypothesis the mean engagement of students who become knowledgable in the material is 0.75. Althought for alternative hypotheses wouldn't be 0.75 . The test to carry out for the following is the Z-test .It can be used as the number of data points in the sampple size is greater than 30."
   ]
  },
  {
   "cell_type": "markdown",
   "metadata": {},
   "source": [
    "# Prob 1,Qs. 2"
   ]
  },
  {
   "cell_type": "code",
   "execution_count": 4,
   "metadata": {
    "scrolled": true
   },
   "outputs": [
    {
     "name": "stdout",
     "output_type": "stream",
     "text": [
      "The sample size is 937\n",
      "The sample mean is 0.7430304110448239\n",
      "Standard error is 0.004153027288269652\n",
      "The standard score is -1.6781948375012814\n",
      "The p-value is 0.09330906925243751\n"
     ]
    }
   ],
   "source": [
    "import numpy as np\n",
    "import math as m\n",
    "import scipy.stats as stats\n",
    "\n",
    "mean = 0.75\n",
    "\n",
    "dataFile = open(\"engagement_1.txt\")\n",
    "data = dataFile.readlines()\n",
    "\n",
    "data = [float(x) for x in data]\n",
    "sample_size = len(data)\n",
    "average= np.mean(data)\n",
    "standardDeviation = np.std(data,ddof = 1)/m.sqrt(sample_size)\n",
    "z_score = (average-mean)/standardDeviation\n",
    "p_value = 2 * stats.norm.cdf(-abs(z_score))\n",
    "\n",
    "print(\"The sample size is {}\".format(sample_size))\n",
    "print(\"The sample mean is {}\".format(average))\n",
    "print(\"Standard error is {}\".format(standardDeviation))\n",
    "print(\"The standard score is {}\".format(z_score))\n",
    "print(\"The p-value is {}\".format(p_value))\n",
    "\n",
    "dataFile.close()"
   ]
  },
  {
   "cell_type": "markdown",
   "metadata": {},
   "source": [
    "Since the p-value is less than 0.1 , the results will be significant at the level of 0.1, This depicts the knowledgable is not at .75. \n",
    "For the engagement 0 as the p value is lesss than 0.05 we fail o reject null hypothesis"
   ]
  },
  {
   "cell_type": "markdown",
   "metadata": {},
   "source": [
    "# Prob 1 Qs 3 "
   ]
  },
  {
   "cell_type": "code",
   "execution_count": 9,
   "metadata": {},
   "outputs": [
    {
     "name": "stdout",
     "output_type": "stream",
     "text": [
      "Minimum Sample size: 1279\n"
     ]
    }
   ],
   "source": [
    "import numpy as np\n",
    "import math as m\n",
    "import scipy.stats as stats\n",
    "\n",
    "mean = 0.75\n",
    "\n",
    "dataFile = open(\"engagement_1.txt\")\n",
    "data = dataFile.readlines()\n",
    "\n",
    "data = [float(x) for x in data]\n",
    "sample_size = len(data)\n",
    "average= np.mean(data)\n",
    "standardDeviation = np.std(data,ddof = 1)/m.sqrt(sample_size)\n",
    "#z_score = (average-mean)/standardDeviation\n",
    "p_value = 2 * stats.norm.cdf(-abs(z_score))\n",
    "while (p_value >= 0.05):\n",
    "    sample_size+=1\n",
    "    standardDeviation = np.std(data,ddof = 1)/m.sqrt(sample_size)\n",
    "    z_score = (average-mean)/standardDeviation\n",
    "    p_value = 2 * stats.norm.cdf(-abs(z_score))\n",
    "print(\"Minimum Sample size: {}\".format(sample_size))"
   ]
  },
  {
   "cell_type": "markdown",
   "metadata": {},
   "source": [
    "# Prob 1 Qs 4"
   ]
  },
  {
   "cell_type": "markdown",
   "metadata": {},
   "source": [
    "Null Hypothesis:- The mean engagement of student knowledgable in this course and not knowledgable will be same\n",
    "\n",
    "Alternative Hyphothesis:- The mean engagement of students who becomes knowledgable in the material is not the same as one not knowledgable.\n",
    "\n",
    "A z-test can be used when there are more than 30 points.\n",
    "\n"
   ]
  },
  {
   "cell_type": "code",
   "execution_count": 15,
   "metadata": {},
   "outputs": [
    {
     "name": "stdout",
     "output_type": "stream",
     "text": [
      "The sample size for data file 1 sample is 1977\n",
      "The sample size for data file 2 sample is 937\n",
      "\n",
      "The sample mean for data file 1 sample is 0.6399545077035914\n",
      "The sample mean for data file 2 sample is 0.7430304110448239\n",
      "The standar error is 0.007065420910043284\n",
      "The Z-score is 14.588784540028351\n",
      "The p value is 3.3104307168195455e-48\n"
     ]
    }
   ],
   "source": [
    "dataFile1 = open('engagement_0.txt')\n",
    "data1 = dataFile1.readlines()\n",
    "\n",
    "dataFile2 = open('engagement_1.txt')\n",
    "data2 = dataFile2.readlines()\n",
    "\n",
    "data1 = [float(x) for x in data1]\n",
    "data2 = [float(y) for y in data2]\n",
    "\n",
    "sample_size1= len(data1)\n",
    "sample_size2= len(data2)\n",
    "\n",
    "average1 = np.mean(data1)\n",
    "average2 = np.mean(data2)\n",
    "\n",
    "standardD_1 =(np.std(data1,ddof = 1)**2) / sample_size1\n",
    "standardD_2 =(np.std(data2,ddof = 1)**2) / sample_size2\n",
    "new_std = m.sqrt(standardD_1+standardD_2)\n",
    "\n",
    "zScore = (average2-average1) / new_std\n",
    "p_value = 2 * stats.norm.cdf(-abs(zScore))\n",
    "\n",
    "print(\"The sample size for data file 1 sample is {}\".format(sample_size1))\n",
    "print(\"The sample size for data file 2 sample is {}\".format(sample_size2))\n",
    "print()\n",
    "print(\"The sample mean for data file 1 sample is {}\".format(average1))\n",
    "print(\"The sample mean for data file 2 sample is {}\".format(average2))\n",
    "print(\"The standar error is {}\".format(new_std))\n",
    "print(\"The Z-score is {}\".format(zScore))\n",
    "print(\"The p value is {}\".format(p_value))\n",
    "\n",
    "dataFile1.close()\n",
    "dataFile2.close()"
   ]
  },
  {
   "cell_type": "markdown",
   "metadata": {},
   "source": [
    "The P-value is less than 0.1 , it rejects the null hypothesis. The data supports that student who are knowledgable and not knowledgable in the material is not same as mean engagement.\n",
    "\n",
    "The p value is less than 0.05 , rejecting the null hypothesis,The data supports that student who are knowledgable and not knowledgable in the material is not same as mean engagement.\n",
    "\n",
    "The p value is less than 0.01 the data support that  student who are knowledgable and not knowledgable in the material is not same as mean engagement"
   ]
  },
  {
   "cell_type": "markdown",
   "metadata": {},
   "source": [
    "# Prob 2, Qs1"
   ]
  },
  {
   "cell_type": "markdown",
   "metadata": {},
   "source": [
    "In order to find the 90% confidence interval we will use a t-test."
   ]
  },
  {
   "cell_type": "code",
   "execution_count": 33,
   "metadata": {},
   "outputs": [
    {
     "name": "stdout",
     "output_type": "stream",
     "text": [
      "T value: 1.8124611228107335\n",
      "90% confidence interval: (-1.4919718375085527, 17.855608201144918)\n"
     ]
    }
   ],
   "source": [
    "import math as m\n",
    "import numpy as np\n",
    "import scipy.stats as stats\n",
    "\n",
    "data = np.array([3, -3, 3, 15, 15, -16, 14, 21, 30, -24, 32])\n",
    "data_mean = np.mean(data)\n",
    "data_size = len(data)\n",
    "\n",
    "\n",
    "tscore90 = stats.t.ppf(1-(1-.90)/2, data_size - 1)\n",
    "serror90 = np.std(data, ddof = 1) / m.sqrt(data_size)\n",
    "\n",
    "c_lower90 = data_mean - (serror90 * tscore90)\n",
    "c_upper90 = data_mean + (serror90 * tscore90)\n",
    "\n",
    "print(\"T value: {}\".format(tscore))\n",
    "print(\"90% confidence interval: ({}, {})\".format(c_lower90, c_upper90))"
   ]
  },
  {
   "cell_type": "markdown",
   "metadata": {},
   "source": [
    "# Prob 2, Qs2"
   ]
  },
  {
   "cell_type": "code",
   "execution_count": 34,
   "metadata": {},
   "outputs": [
    {
     "name": "stdout",
     "output_type": "stream",
     "text": [
      "Sample Mean: 8.181818181818182\n",
      "Standard Error: 5.337377942940253\n",
      "T value: 2.2281388519649385\n",
      "95% confidence interval: (-3.7106009804676994, 20.074237344104063)\n"
     ]
    }
   ],
   "source": [
    "serror95 = np.std(data, ddof = 1) / m.sqrt(data_size)\n",
    "tscore95 = stats.t.ppf(1-(1-.95)/2, data_size - 1)\n",
    "c_lower95 = data_mean - (serror95 * tscore95)\n",
    "c_upper95 = data_mean + (serror95 * tscore95)\n",
    "print(\"Sample Mean: {}\".format(data_mean))\n",
    "print(\"Standard Error: {}\".format(serror95))\n",
    "print(\"T value: {}\".format(tscore95))\n",
    "print(\"95% confidence interval: ({}, {})\".format(c_lower95, c_upper95))"
   ]
  },
  {
   "cell_type": "markdown",
   "metadata": {},
   "source": [
    "The value for the 95% confidence interval is greater than the value for the 90% confidence interval. occurs due to the nature of these confidence levels."
   ]
  },
  {
   "cell_type": "markdown",
   "metadata": {},
   "source": [
    "# Prob 2, Qs3"
   ]
  },
  {
   "cell_type": "markdown",
   "metadata": {},
   "source": [
    "As standard deviation is know Z-test is used\n"
   ]
  },
  {
   "cell_type": "code",
   "execution_count": 32,
   "metadata": {},
   "outputs": [
    {
     "name": "stdout",
     "output_type": "stream",
     "text": [
      "Standard Error: 5.076244997311228\n",
      "Z value: 1.959963984540054\n",
      "95% confidence interval: (-1.7674391896134498, 18.131075553249815)\n"
     ]
    }
   ],
   "source": [
    "data = np.array([3, -3, 3, 15, 15, -16, 14, 21, 30, -24, 32])\n",
    "data_mean = np.mean(data)\n",
    "data_size = len(data)\n",
    "z95 = stats.norm.ppf(1-(1-.95)/2)\n",
    "sd95 = 16.836 / m.sqrt(data_size)\n",
    "low95 = data_mean - (sd95 * z95)\n",
    "upp95 = data_mean + (sd95 * z95)\n",
    "\n",
    "print(\"Standard Error: {}\".format(sd95))\n",
    "print(\"Z value: {}\".format(z95))\n",
    "print(\"95% confidence interval: ({}, {})\".format(low95, upp95))\n"
   ]
  },
  {
   "cell_type": "markdown",
   "metadata": {},
   "source": [
    "The standard error calculaed above is about the same but smaller than the standard error in question 1. 95% confidence interval is smaller than the confidence interval in question 1."
   ]
  },
  {
   "cell_type": "markdown",
   "metadata": {},
   "source": [
    "# Prob 2, Qs4"
   ]
  },
  {
   "cell_type": "markdown",
   "metadata": {},
   "source": [
    "T value to find the confidence interval"
   ]
  },
  {
   "cell_type": "code",
   "execution_count": 35,
   "metadata": {},
   "outputs": [
    {
     "name": "stdout",
     "output_type": "stream",
     "text": [
      "With a confidence of 84.37010872617708%, we can say that the team is expected to win on average.\n"
     ]
    }
   ],
   "source": [
    "t_score = (data_mean - 0.00001)/serror95\n",
    "p_score = 2* stats.t.cdf(-t_score,data_size-1)\n",
    "print(\"With a confidence of {}%, we can say that the team is expected to win on average.\".format((1-p_score)*100))"
   ]
  },
  {
   "cell_type": "code",
   "execution_count": null,
   "metadata": {},
   "outputs": [],
   "source": []
  }
 ],
 "metadata": {
  "kernelspec": {
   "display_name": "Python 3",
   "language": "python",
   "name": "python3"
  },
  "language_info": {
   "codemirror_mode": {
    "name": "ipython",
    "version": 3
   },
   "file_extension": ".py",
   "mimetype": "text/x-python",
   "name": "python",
   "nbconvert_exporter": "python",
   "pygments_lexer": "ipython3",
   "version": "3.8.6"
  }
 },
 "nbformat": 4,
 "nbformat_minor": 4
}
